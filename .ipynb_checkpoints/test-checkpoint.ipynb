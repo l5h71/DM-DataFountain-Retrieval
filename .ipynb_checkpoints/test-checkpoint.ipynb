{
 "cells": [
  {
   "cell_type": "code",
   "execution_count": 1,
   "metadata": {},
   "outputs": [
    {
     "name": "stderr",
     "output_type": "stream",
     "text": [
      "/home/lsh/anaconda3/envs/DF-retrieval/lib/python3.12/site-packages/tqdm/auto.py:21: TqdmWarning: IProgress not found. Please update jupyter and ipywidgets. See https://ipywidgets.readthedocs.io/en/stable/user_install.html\n",
      "  from .autonotebook import tqdm as notebook_tqdm\n"
     ]
    }
   ],
   "source": [
    "import numpy as np\n",
    "import faiss\n",
    "import os\n",
    "import jieba\n",
    "import copy\n",
    "from FlagEmbedding import FlagModel\n",
    "import json"
   ]
  },
  {
   "cell_type": "code",
   "execution_count": 2,
   "metadata": {},
   "outputs": [
    {
     "name": "stdout",
     "output_type": "stream",
     "text": [
      "HTTP/1.1 200 Connection established\n",
      "\n",
      "HTTP/2 200 \n",
      "\u001b[1mcontent-type\u001b[0m: text/html; charset=utf-8\n",
      "\u001b[1mcontent-length\u001b[0m: 111672\n",
      "\u001b[1mdate\u001b[0m: Thu, 10 Oct 2024 16:56:16 GMT\n",
      "\u001b[1mx-powered-by\u001b[0m: huggingface-moon\n",
      "\u001b[1mcross-origin-opener-policy\u001b[0m: same-origin\n",
      "\u001b[1mreferrer-policy\u001b[0m: strict-origin-when-cross-origin\n",
      "\u001b[1mx-request-id\u001b[0m: Root=1-67080730-468ef3a87279554f6424ac55\n",
      "\u001b[1mx-frame-options\u001b[0m: DENY\n",
      "\u001b[1metag\u001b[0m: W/\"1b438-m+8hbM7IOInl7tGbrUC3jCAvuh0\"\n",
      "\u001b[1mvary\u001b[0m: Accept-Encoding\n",
      "\u001b[1mx-cache\u001b[0m: Hit from cloudfront\n",
      "\u001b[1mvia\u001b[0m: 1.1 837e503aed9da880c3776b678e912f88.cloudfront.net (CloudFront)\n",
      "\u001b[1mx-amz-cf-pop\u001b[0m: HKG1-P1\n",
      "\u001b[1mx-amz-cf-id\u001b[0m: Le9H4-2xRWFFl0k5HXzW3AftYmsnXcrY2OHwEiEbU8MSgEgnhZNRzQ==\n",
      "\u001b[1mage\u001b[0m: 47\n",
      "\n"
     ]
    }
   ],
   "source": [
    "!curl -I https://huggingface.co"
   ]
  },
  {
   "cell_type": "code",
   "execution_count": null,
   "metadata": {},
   "outputs": [],
   "source": [
    "# %env ALL_PROXY=http://localhost:7890\n",
    "# %env HTTP_PROXY=http://localhost:7890\n",
    "# %env HTTPS_PROXY=http://localhost:7890"
   ]
  },
  {
   "cell_type": "code",
   "execution_count": 3,
   "metadata": {},
   "outputs": [
    {
     "name": "stdout",
     "output_type": "stream",
     "text": [
      "HTTP/1.1 200 Connection established\n",
      "\n",
      "HTTP/2 200 \n",
      "\u001b[1mcontent-type\u001b[0m: text/html; charset=utf-8\n",
      "\u001b[1mcontent-length\u001b[0m: 111681\n",
      "\u001b[1mdate\u001b[0m: Fri, 11 Oct 2024 07:26:31 GMT\n",
      "\u001b[1mx-powered-by\u001b[0m: huggingface-moon\n",
      "\u001b[1mcross-origin-opener-policy\u001b[0m: same-origin\n",
      "\u001b[1mreferrer-policy\u001b[0m: strict-origin-when-cross-origin\n",
      "\u001b[1mx-request-id\u001b[0m: Root=1-6708d327-687607b05aa41aa24b0df5cd\n",
      "\u001b[1mx-frame-options\u001b[0m: DENY\n",
      "\u001b[1metag\u001b[0m: W/\"1b441-+6OpyaciEFzPwQzzW4ShmOZwFm0\"\n",
      "\u001b[1mvary\u001b[0m: Accept-Encoding\n",
      "\u001b[1mx-cache\u001b[0m: Hit from cloudfront\n",
      "\u001b[1mvia\u001b[0m: 1.1 a67ea7b8ef0119614f197be5f0fa8d3a.cloudfront.net (CloudFront)\n",
      "\u001b[1mx-amz-cf-pop\u001b[0m: HKG1-P1\n",
      "\u001b[1mx-amz-cf-id\u001b[0m: RUJ-4VYAJGsrdN2wKdUdI4aMW8SnV_bulBldTsb0WzIBY1v6xqpdpg==\n",
      "\u001b[1mage\u001b[0m: 54\n",
      "\n"
     ]
    }
   ],
   "source": [
    "\n",
    "!curl -I https://huggingface.co\n",
    "model = FlagModel('BAAI/bge-large-zh-v1.5',\n",
    "                  query_instruction_for_retrieval=\"Represent this sentence for searching relevant passages:\",\n",
    "                  use_fp16=True)"
   ]
  },
  {
   "cell_type": "code",
   "execution_count": 4,
   "metadata": {},
   "outputs": [
    {
     "name": "stdout",
     "output_type": "stream",
     "text": [
      "True\n",
      "12.4\n"
     ]
    }
   ],
   "source": [
    "import torch\n",
    "torch.__version__\n",
    "print(torch.cuda.is_available())\n",
    "print(torch.version.cuda)"
   ]
  },
  {
   "cell_type": "code",
   "execution_count": 5,
   "metadata": {},
   "outputs": [],
   "source": [
    "# with open('resources/train-v2.0.json', 'r') as file:\n",
    "#     squad_data = json.load(file)\n",
    "\n",
    "folder_path = '/home/lsh/DM-DataFountain-Retrieval/resources/temp'\n",
    "output_path = '/home/lsh/DM-DataFountain-Retrieval/resources'\n"
   ]
  },
  {
   "cell_type": "code",
   "execution_count": 6,
   "metadata": {},
   "outputs": [
    {
     "name": "stdout",
     "output_type": "stream",
     "text": [
      "/home/lsh/DM-DataFountain-Retrieval/resources/temp/53.json\n",
      "file:1complete\n",
      "/home/lsh/DM-DataFountain-Retrieval/resources/temp/70.json\n",
      "file:2complete\n",
      "/home/lsh/DM-DataFountain-Retrieval/resources/temp/81.json\n",
      "file:3complete\n",
      "/home/lsh/DM-DataFountain-Retrieval/resources/temp/66.json\n",
      "file:4complete\n",
      "/home/lsh/DM-DataFountain-Retrieval/resources/temp/12.json\n",
      "file:5complete\n",
      "/home/lsh/DM-DataFountain-Retrieval/resources/temp/9.json\n",
      "file:6complete\n",
      "/home/lsh/DM-DataFountain-Retrieval/resources/temp/8.json\n",
      "file:7complete\n",
      "/home/lsh/DM-DataFountain-Retrieval/resources/temp/79.json\n",
      "file:8complete\n",
      "/home/lsh/DM-DataFountain-Retrieval/resources/temp/19.json\n",
      "file:9complete\n",
      "/home/lsh/DM-DataFountain-Retrieval/resources/temp/31.json\n",
      "file:10complete\n",
      "/home/lsh/DM-DataFountain-Retrieval/resources/temp/55.json\n",
      "file:11complete\n",
      "/home/lsh/DM-DataFountain-Retrieval/resources/temp/13.json\n",
      "file:12complete\n",
      "/home/lsh/DM-DataFountain-Retrieval/resources/temp/84.json\n",
      "file:13complete\n",
      "/home/lsh/DM-DataFountain-Retrieval/resources/temp/50.json\n",
      "file:14complete\n",
      "/home/lsh/DM-DataFountain-Retrieval/resources/temp/18.json\n",
      "file:15complete\n",
      "/home/lsh/DM-DataFountain-Retrieval/resources/temp/96.json\n",
      "file:16complete\n",
      "/home/lsh/DM-DataFountain-Retrieval/resources/temp/69.json\n",
      "file:17complete\n",
      "/home/lsh/DM-DataFountain-Retrieval/resources/temp/63.json\n",
      "file:18complete\n",
      "/home/lsh/DM-DataFountain-Retrieval/resources/temp/116.json\n",
      "file:19complete\n",
      "/home/lsh/DM-DataFountain-Retrieval/resources/temp/28.json\n",
      "file:20complete\n",
      "/home/lsh/DM-DataFountain-Retrieval/resources/temp/92.json\n",
      "file:21complete\n",
      "/home/lsh/DM-DataFountain-Retrieval/resources/temp/89.json\n",
      "file:22complete\n",
      "/home/lsh/DM-DataFountain-Retrieval/resources/temp/43.json\n",
      "file:23complete\n",
      "/home/lsh/DM-DataFountain-Retrieval/resources/temp/41.json\n",
      "file:24complete\n",
      "/home/lsh/DM-DataFountain-Retrieval/resources/temp/100.json\n",
      "file:25complete\n",
      "/home/lsh/DM-DataFountain-Retrieval/resources/temp/104.json\n",
      "file:26complete\n",
      "/home/lsh/DM-DataFountain-Retrieval/resources/temp/119.json\n",
      "file:27complete\n",
      "/home/lsh/DM-DataFountain-Retrieval/resources/temp/86.json\n",
      "file:28complete\n",
      "/home/lsh/DM-DataFountain-Retrieval/resources/temp/30.json\n",
      "file:29complete\n",
      "/home/lsh/DM-DataFountain-Retrieval/resources/temp/76.json\n",
      "file:30complete\n",
      "/home/lsh/DM-DataFountain-Retrieval/resources/temp/111.json\n",
      "file:31complete\n",
      "/home/lsh/DM-DataFountain-Retrieval/resources/temp/17.json\n",
      "file:32complete\n",
      "/home/lsh/DM-DataFountain-Retrieval/resources/temp/117.json\n",
      "file:33complete\n",
      "/home/lsh/DM-DataFountain-Retrieval/resources/temp/98.json\n",
      "file:34complete\n",
      "/home/lsh/DM-DataFountain-Retrieval/resources/temp/61.json\n",
      "file:35complete\n",
      "/home/lsh/DM-DataFountain-Retrieval/resources/temp/1.json\n",
      "file:36complete\n",
      "/home/lsh/DM-DataFountain-Retrieval/resources/temp/57.json\n",
      "file:37complete\n",
      "/home/lsh/DM-DataFountain-Retrieval/resources/temp/45.json\n",
      "file:38complete\n",
      "/home/lsh/DM-DataFountain-Retrieval/resources/temp/78.json\n",
      "file:39complete\n",
      "/home/lsh/DM-DataFountain-Retrieval/resources/temp/42.json\n",
      "file:40complete\n",
      "/home/lsh/DM-DataFountain-Retrieval/resources/temp/25.json\n",
      "file:41complete\n",
      "/home/lsh/DM-DataFountain-Retrieval/resources/temp/107.json\n",
      "file:42complete\n",
      "/home/lsh/DM-DataFountain-Retrieval/resources/temp/74.json\n",
      "file:43complete\n",
      "/home/lsh/DM-DataFountain-Retrieval/resources/temp/51.json\n",
      "file:44complete\n",
      "/home/lsh/DM-DataFountain-Retrieval/resources/temp/118.json\n",
      "file:45complete\n",
      "/home/lsh/DM-DataFountain-Retrieval/resources/temp/52.json\n",
      "file:46complete\n",
      "/home/lsh/DM-DataFountain-Retrieval/resources/temp/77.json\n",
      "file:47complete\n",
      "/home/lsh/DM-DataFountain-Retrieval/resources/temp/44.json\n",
      "file:48complete\n",
      "/home/lsh/DM-DataFountain-Retrieval/resources/temp/48.json\n",
      "file:49complete\n",
      "/home/lsh/DM-DataFountain-Retrieval/resources/temp/90.json\n",
      "file:50complete\n",
      "/home/lsh/DM-DataFountain-Retrieval/resources/temp/34.json\n",
      "file:51complete\n",
      "/home/lsh/DM-DataFountain-Retrieval/resources/temp/26.json\n",
      "file:52complete\n",
      "/home/lsh/DM-DataFountain-Retrieval/resources/temp/64.json\n",
      "file:53complete\n",
      "/home/lsh/DM-DataFountain-Retrieval/resources/temp/21.json\n",
      "file:54complete\n",
      "/home/lsh/DM-DataFountain-Retrieval/resources/temp/68.json\n",
      "file:55complete\n",
      "/home/lsh/DM-DataFountain-Retrieval/resources/temp/16.json\n",
      "file:56complete\n",
      "/home/lsh/DM-DataFountain-Retrieval/resources/temp/14.json\n",
      "file:57complete\n",
      "/home/lsh/DM-DataFountain-Retrieval/resources/temp/85.json\n",
      "file:58complete\n",
      "/home/lsh/DM-DataFountain-Retrieval/resources/temp/7.json\n",
      "file:59complete\n",
      "/home/lsh/DM-DataFountain-Retrieval/resources/temp/47.json\n",
      "file:60complete\n",
      "/home/lsh/DM-DataFountain-Retrieval/resources/temp/83.json\n",
      "file:61complete\n",
      "/home/lsh/DM-DataFountain-Retrieval/resources/temp/35.json\n",
      "file:62complete\n",
      "/home/lsh/DM-DataFountain-Retrieval/resources/temp/87.json\n",
      "file:63complete\n",
      "/home/lsh/DM-DataFountain-Retrieval/resources/temp/93.json\n",
      "file:64complete\n",
      "/home/lsh/DM-DataFountain-Retrieval/resources/temp/108.json\n",
      "file:65complete\n",
      "/home/lsh/DM-DataFountain-Retrieval/resources/temp/6.json\n",
      "file:66complete\n",
      "/home/lsh/DM-DataFountain-Retrieval/resources/temp/10.json\n",
      "file:67complete\n",
      "/home/lsh/DM-DataFountain-Retrieval/resources/temp/88.json\n",
      "file:68complete\n",
      "/home/lsh/DM-DataFountain-Retrieval/resources/temp/54.json\n",
      "file:69complete\n",
      "/home/lsh/DM-DataFountain-Retrieval/resources/temp/2.json\n",
      "file:70complete\n",
      "/home/lsh/DM-DataFountain-Retrieval/resources/temp/113.json\n",
      "file:71complete\n",
      "/home/lsh/DM-DataFountain-Retrieval/resources/temp/46.json\n",
      "file:72complete\n",
      "/home/lsh/DM-DataFountain-Retrieval/resources/temp/109.json\n",
      "file:73complete\n",
      "/home/lsh/DM-DataFountain-Retrieval/resources/temp/112.json\n",
      "file:74complete\n",
      "/home/lsh/DM-DataFountain-Retrieval/resources/temp/105.json\n",
      "file:75complete\n",
      "/home/lsh/DM-DataFountain-Retrieval/resources/temp/65.json\n",
      "file:76complete\n",
      "/home/lsh/DM-DataFountain-Retrieval/resources/temp/120.json\n",
      "file:77complete\n",
      "/home/lsh/DM-DataFountain-Retrieval/resources/temp/58.json\n",
      "file:78complete\n",
      "/home/lsh/DM-DataFountain-Retrieval/resources/temp/60.json\n",
      "file:79complete\n",
      "/home/lsh/DM-DataFountain-Retrieval/resources/temp/114.json\n",
      "file:80complete\n",
      "/home/lsh/DM-DataFountain-Retrieval/resources/temp/97.json\n",
      "file:81complete\n",
      "/home/lsh/DM-DataFountain-Retrieval/resources/temp/75.json\n",
      "file:82complete\n",
      "/home/lsh/DM-DataFountain-Retrieval/resources/temp/40.json\n",
      "file:83complete\n",
      "/home/lsh/DM-DataFountain-Retrieval/resources/temp/29.json\n",
      "file:84complete\n",
      "/home/lsh/DM-DataFountain-Retrieval/resources/temp/11.json\n",
      "file:85complete\n",
      "/home/lsh/DM-DataFountain-Retrieval/resources/temp/72.json\n",
      "file:86complete\n",
      "/home/lsh/DM-DataFountain-Retrieval/resources/temp/80.json\n",
      "file:87complete\n",
      "/home/lsh/DM-DataFountain-Retrieval/resources/temp/4.json\n",
      "file:88complete\n",
      "/home/lsh/DM-DataFountain-Retrieval/resources/temp/62.json\n",
      "file:89complete\n",
      "/home/lsh/DM-DataFountain-Retrieval/resources/temp/101.json\n",
      "file:90complete\n",
      "/home/lsh/DM-DataFountain-Retrieval/resources/temp/73.json\n",
      "file:91complete\n",
      "/home/lsh/DM-DataFountain-Retrieval/resources/temp/67.json\n",
      "file:92complete\n",
      "/home/lsh/DM-DataFountain-Retrieval/resources/temp/32.json\n",
      "file:93complete\n",
      "/home/lsh/DM-DataFountain-Retrieval/resources/temp/59.json\n",
      "file:94complete\n",
      "/home/lsh/DM-DataFountain-Retrieval/resources/temp/5.json\n",
      "file:95complete\n",
      "/home/lsh/DM-DataFountain-Retrieval/resources/temp/49.json\n",
      "file:96complete\n",
      "/home/lsh/DM-DataFountain-Retrieval/resources/temp/71.json\n",
      "file:97complete\n",
      "/home/lsh/DM-DataFountain-Retrieval/resources/temp/22.json\n",
      "file:98complete\n",
      "/home/lsh/DM-DataFountain-Retrieval/resources/temp/23.json\n",
      "file:99complete\n",
      "/home/lsh/DM-DataFountain-Retrieval/resources/temp/36.json\n",
      "file:100complete\n",
      "/home/lsh/DM-DataFountain-Retrieval/resources/temp/24.json\n",
      "file:101complete\n",
      "/home/lsh/DM-DataFountain-Retrieval/resources/temp/27.json\n",
      "file:102complete\n",
      "/home/lsh/DM-DataFountain-Retrieval/resources/temp/38.json\n",
      "file:103complete\n",
      "/home/lsh/DM-DataFountain-Retrieval/resources/temp/33.json\n",
      "file:104complete\n",
      "/home/lsh/DM-DataFountain-Retrieval/resources/temp/56.json\n",
      "file:105complete\n",
      "/home/lsh/DM-DataFountain-Retrieval/resources/temp/110.json\n",
      "file:106complete\n",
      "/home/lsh/DM-DataFountain-Retrieval/resources/temp/39.json\n",
      "file:107complete\n",
      "/home/lsh/DM-DataFountain-Retrieval/resources/temp/94.json\n",
      "file:108complete\n",
      "/home/lsh/DM-DataFountain-Retrieval/resources/temp/99.json\n",
      "file:109complete\n",
      "/home/lsh/DM-DataFountain-Retrieval/resources/temp/102.json\n",
      "file:110complete\n",
      "/home/lsh/DM-DataFountain-Retrieval/resources/temp/103.json\n",
      "file:111complete\n",
      "/home/lsh/DM-DataFountain-Retrieval/resources/temp/37.json\n",
      "file:112complete\n",
      "/home/lsh/DM-DataFountain-Retrieval/resources/temp/95.json\n",
      "file:113complete\n",
      "/home/lsh/DM-DataFountain-Retrieval/resources/temp/106.json\n",
      "file:114complete\n",
      "/home/lsh/DM-DataFountain-Retrieval/resources/temp/82.json\n",
      "file:115complete\n",
      "/home/lsh/DM-DataFountain-Retrieval/resources/temp/115.json\n",
      "file:116complete\n",
      "/home/lsh/DM-DataFountain-Retrieval/resources/temp/15.json\n",
      "file:117complete\n",
      "/home/lsh/DM-DataFountain-Retrieval/resources/temp/3.json\n",
      "file:118complete\n",
      "/home/lsh/DM-DataFountain-Retrieval/resources/temp/91.json\n",
      "file:119complete\n",
      "/home/lsh/DM-DataFountain-Retrieval/resources/temp/20.json\n",
      "file:120complete\n"
     ]
    }
   ],
   "source": [
    "\n",
    "# 遍历文件夹及其子文件夹中的所有文件\n",
    "vectors = []\n",
    "datas = {'file_path': [], 'vectors': [], 'text_num': []}\n",
    "\n",
    "file_num = 1\n",
    "text_num = 1\n",
    "\n",
    "for item in os.listdir(folder_path):\n",
    "    file_path = os.path.join(folder_path, item)\n",
    "    if not os.path.isfile(file_path):\n",
    "        continue\n",
    "    with open(file_path, 'r', encoding='utf-8') as f:\n",
    "        text_num = 0\n",
    "        data = json.load(f)\n",
    "        print(file_path)\n",
    "        for text in data:\n",
    "            if isinstance(text, str):\n",
    "                vec = model.encode(text)\n",
    "                vectors.append(vec)\n",
    "                datas['file_path'].append(file_path)\n",
    "                datas['text_num'].append(text_num)\n",
    "                datas['vectors'].append(vec.tolist())\n",
    "            else:\n",
    "                print('wrong:', end='')\n",
    "                print(text)\n",
    "            text_num += 1\n",
    "        print('file:' + str(file_num) + 'complete')\n",
    "        file_num += 1\n",
    "            \n",
    "with open(output_path + '/vectors.json', 'w') as file:\n",
    "    json.dump(datas, file, ensure_ascii=False, indent=4)"
   ]
  },
  {
   "cell_type": "code",
   "execution_count": 7,
   "metadata": {},
   "outputs": [
    {
     "name": "stdout",
     "output_type": "stream",
     "text": [
      "570138\n"
     ]
    }
   ],
   "source": [
    "print(len(vectors))"
   ]
  },
  {
   "cell_type": "code",
   "execution_count": 9,
   "metadata": {},
   "outputs": [
    {
     "ename": "TypeError",
     "evalue": "load() missing 1 required positional argument: 'fp'",
     "output_type": "error",
     "traceback": [
      "\u001b[0;31m---------------------------------------------------------------------------\u001b[0m",
      "\u001b[0;31mTypeError\u001b[0m                                 Traceback (most recent call last)",
      "Cell \u001b[0;32mIn[9], line 4\u001b[0m\n\u001b[1;32m      1\u001b[0m vectors \u001b[38;5;241m=\u001b[39m []\n\u001b[1;32m      3\u001b[0m \u001b[38;5;28;01mwith\u001b[39;00m \u001b[38;5;28mopen\u001b[39m(output_path \u001b[38;5;241m+\u001b[39m \u001b[38;5;124m'\u001b[39m\u001b[38;5;124m/vectors.json\u001b[39m\u001b[38;5;124m'\u001b[39m, \u001b[38;5;124m'\u001b[39m\u001b[38;5;124mr\u001b[39m\u001b[38;5;124m'\u001b[39m) \u001b[38;5;28;01mas\u001b[39;00m file:\n\u001b[0;32m----> 4\u001b[0m     data \u001b[38;5;241m=\u001b[39m \u001b[43mjson\u001b[49m\u001b[38;5;241;43m.\u001b[39;49m\u001b[43mload\u001b[49m\u001b[43m(\u001b[49m\u001b[43m)\u001b[49m\n\u001b[1;32m      5\u001b[0m     \u001b[38;5;28;01mfor\u001b[39;00m item \u001b[38;5;129;01min\u001b[39;00m data:\n\u001b[1;32m      6\u001b[0m         vectors\u001b[38;5;241m.\u001b[39mappend(np\u001b[38;5;241m.\u001b[39marray(item[\u001b[38;5;124m'\u001b[39m\u001b[38;5;124mvectors\u001b[39m\u001b[38;5;124m'\u001b[39m]))\n",
      "\u001b[0;31mTypeError\u001b[0m: load() missing 1 required positional argument: 'fp'"
     ]
    }
   ],
   "source": [
    "vectors = []\n",
    "\n",
    "with open(output_path + '/vectors.json', 'r') as file:\n",
    "    data = json.load(file)\n",
    "    for item in data:\n",
    "        vectors.append(np.array(item['vectors']))\n",
    "        "
   ]
  },
  {
   "cell_type": "code",
   "execution_count": 63,
   "metadata": {},
   "outputs": [],
   "source": []
  },
  {
   "cell_type": "code",
   "execution_count": 8,
   "metadata": {},
   "outputs": [],
   "source": [
    "def convert_text_to_vector(text):\n",
    "    vec = model.encode(text)\n",
    "    return vec\n",
    "\n",
    "paragraph_vectors = np.stack(vectors).astype('float32')\n",
    "dimension = paragraph_vectors.shape[1]\n",
    "index = faiss.IndexFlatL2(dimension)\n",
    "index.add(paragraph_vectors)"
   ]
  },
  {
   "cell_type": "code",
   "execution_count": 9,
   "metadata": {},
   "outputs": [
    {
     "name": "stdout",
     "output_type": "stream",
     "text": [
      "1024\n"
     ]
    }
   ],
   "source": [
    "print(dimension)"
   ]
  },
  {
   "cell_type": "code",
   "execution_count": 67,
   "metadata": {},
   "outputs": [
    {
     "name": "stdout",
     "output_type": "stream",
     "text": [
      "<faiss.swigfaiss.IndexFlatL2; proxy of <Swig Object of type 'faiss::IndexFlatL2 *' at 0x7e1c25f944b0> >\n"
     ]
    }
   ],
   "source": [
    "\n",
    "\n"
   ]
  },
  {
   "cell_type": "code",
   "execution_count": 13,
   "metadata": {},
   "outputs": [],
   "source": [
    "def search_for_paragraphs(search_term, num_results, index):\n",
    "    search_vector = convert_text_to_vector(search_term)\n",
    "    search_vector = np.array([search_vector]).astype('float32')\n",
    "    distances, indexes = index.search(search_vector, num_results)\n",
    "    for i, (distance, index) in enumerate(zip(distances[0], indexes[0])):\n",
    "        print(f\"Result {i+1}, Distance: {distance}\")\n",
    "        path = datas['file_path'][index]\n",
    "        num = datas['text_num'][index]\n",
    "        with open(path, 'r') as file:\n",
    "            data = json.open(file)\n",
    "            print(data[num])\n",
    "        print()\n"
   ]
  },
  {
   "cell_type": "code",
   "execution_count": 11,
   "metadata": {},
   "outputs": [
    {
     "name": "stdout",
     "output_type": "stream",
     "text": [
      "Result 1, Distance: 0.7032135725021362\n"
     ]
    },
    {
     "ename": "NameError",
     "evalue": "name 'paragraphs' is not defined",
     "output_type": "error",
     "traceback": [
      "\u001b[0;31m---------------------------------------------------------------------------\u001b[0m",
      "\u001b[0;31mNameError\u001b[0m                                 Traceback (most recent call last)",
      "Cell \u001b[0;32mIn[11], line 1\u001b[0m\n\u001b[0;32m----> 1\u001b[0m \u001b[43msearch_for_paragraphs\u001b[49m\u001b[43m(\u001b[49m\u001b[38;5;124;43m'\u001b[39;49m\u001b[38;5;124;43m根据年度报告，2022年中国联通在向数字科技领军企业转变的过程中实现了哪些维度的转型升级？\u001b[39;49m\u001b[38;5;124;43m'\u001b[39;49m\u001b[43m,\u001b[49m\u001b[43m \u001b[49m\u001b[38;5;241;43m5\u001b[39;49m\u001b[43m,\u001b[49m\u001b[43m \u001b[49m\u001b[43mindex\u001b[49m\u001b[43m)\u001b[49m\n",
      "Cell \u001b[0;32mIn[10], line 7\u001b[0m, in \u001b[0;36msearch_for_paragraphs\u001b[0;34m(search_term, num_results, index)\u001b[0m\n\u001b[1;32m      5\u001b[0m \u001b[38;5;28;01mfor\u001b[39;00m i, (distance, index) \u001b[38;5;129;01min\u001b[39;00m \u001b[38;5;28menumerate\u001b[39m(\u001b[38;5;28mzip\u001b[39m(distances[\u001b[38;5;241m0\u001b[39m], indexes[\u001b[38;5;241m0\u001b[39m])):\n\u001b[1;32m      6\u001b[0m     \u001b[38;5;28mprint\u001b[39m(\u001b[38;5;124mf\u001b[39m\u001b[38;5;124m\"\u001b[39m\u001b[38;5;124mResult \u001b[39m\u001b[38;5;132;01m{\u001b[39;00mi\u001b[38;5;241m+\u001b[39m\u001b[38;5;241m1\u001b[39m\u001b[38;5;132;01m}\u001b[39;00m\u001b[38;5;124m, Distance: \u001b[39m\u001b[38;5;132;01m{\u001b[39;00mdistance\u001b[38;5;132;01m}\u001b[39;00m\u001b[38;5;124m\"\u001b[39m)\n\u001b[0;32m----> 7\u001b[0m     \u001b[38;5;28mprint\u001b[39m(\u001b[43mparagraphs\u001b[49m[index])\n\u001b[1;32m      8\u001b[0m     \u001b[38;5;28mprint\u001b[39m()\n",
      "\u001b[0;31mNameError\u001b[0m: name 'paragraphs' is not defined"
     ]
    }
   ],
   "source": [
    "search_for_paragraphs('根据年度报告，2022年中国联通在向数字科技领军企业转变的过程中实现了哪些维度的转型升级？', 5, index)"
   ]
  },
  {
   "cell_type": "code",
   "execution_count": null,
   "metadata": {},
   "outputs": [],
   "source": []
  }
 ],
 "metadata": {
  "kernelspec": {
   "display_name": "Python 3 (ipykernel)",
   "language": "python",
   "name": "python3"
  },
  "language_info": {
   "codemirror_mode": {
    "name": "ipython",
    "version": 3
   },
   "file_extension": ".py",
   "mimetype": "text/x-python",
   "name": "python",
   "nbconvert_exporter": "python",
   "pygments_lexer": "ipython3",
   "version": "3.12.2"
  }
 },
 "nbformat": 4,
 "nbformat_minor": 4
}
